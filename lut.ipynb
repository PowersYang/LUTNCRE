{
 "cells": [
  {
   "cell_type": "code",
   "execution_count": 1,
   "metadata": {},
   "outputs": [],
   "source": [
    "import pandas as pd"
   ]
  },
  {
   "cell_type": "code",
   "execution_count": 2,
   "metadata": {},
   "outputs": [
    {
     "data": {
      "text/plain": [
       "(4916, 53)"
      ]
     },
     "execution_count": 2,
     "metadata": {},
     "output_type": "execute_result"
    }
   ],
   "source": [
    "date = 201803\n",
    "df = pd.read_excel('data/{}bb.xlsx'.format(date))\n",
    "df.columns = [col.lower() for col in df]\n",
    "\n",
    "df_xq = pd.read_excel('data/{}xq.xlsx'.format(date))\n",
    "df_xq.columns = [col.lower() for col in df_xq]\n",
    "df = df.append(df_xq)\n",
    "\n",
    "students_lib = pd.read_excel('data/兰州理工大学在籍学籍库.xlsx')\n",
    "students_lib.columns = [col.lower() for col in students_lib]\n",
    "\n",
    "students_list = pd.read_excel('data/在籍在校学生名单.xls')\n",
    "students_list.columns = [col.lower() for col in students_list]\n",
    "\n",
    "df = pd.merge(students_lib, df, left_on='sfzh', right_on='zjh')\n",
    "df = pd.merge(students_list, df, left_on='身份证号', right_on='sfzh')\n",
    "df.shape"
   ]
  },
  {
   "cell_type": "code",
   "execution_count": 3,
   "metadata": {},
   "outputs": [],
   "source": [
    "df['subject'] = df['zkzh'].map(lambda x: str(x)[0:2])\n",
    "subject = df[df['cj'] >= 60].groupby('subject').count()['cj'] / df.groupby('subject').count()['cj']"
   ]
  },
  {
   "cell_type": "code",
   "execution_count": 4,
   "metadata": {},
   "outputs": [
    {
     "data": {
      "text/plain": [
       "subject\n",
       "14    0.416667\n",
       "15    0.728723\n",
       "16    0.666667\n",
       "24    0.192726\n",
       "26    0.179104\n",
       "28    0.171429\n",
       "29    0.133333\n",
       "35    0.510204\n",
       "36    0.250000\n",
       "38    0.323529\n",
       "39    0.241379\n",
       "41    0.377358\n",
       "42    0.133333\n",
       "44    0.153846\n",
       "45    0.500000\n",
       "61    0.023256\n",
       "63    0.500000\n",
       "64    1.000000\n",
       "65    0.152497\n",
       "Name: cj, dtype: float64"
      ]
     },
     "execution_count": 4,
     "metadata": {},
     "output_type": "execute_result"
    }
   ],
   "source": [
    "subject"
   ]
  },
  {
   "cell_type": "code",
   "execution_count": 5,
   "metadata": {},
   "outputs": [],
   "source": [
    "subject_dict = {'14':'二级C语言', '15':'二级JAva', '16':'三级网络技术', '24':'一级Office', '26':'a', '28':'b', '29':'c', '35':'d', '36':'e', '38':'f', '39':'g', '41':'h','42':'i', '44':'g', '45':'k', '61':'l', '63':'m', '64':'n', '65':'o'}"
   ]
  },
  {
   "cell_type": "code",
   "execution_count": 6,
   "metadata": {},
   "outputs": [
    {
     "data": {
      "text/plain": [
       "dict_values(['二级C语言', '二级JAva', '三级网络技术', '一级Office', 'a', 'b', 'c', 'd', 'e', 'f', 'g', 'h', 'i', 'g', 'k', 'l', 'm', 'n', 'o'])"
      ]
     },
     "execution_count": 6,
     "metadata": {},
     "output_type": "execute_result"
    }
   ],
   "source": [
    "subject_dict.values()"
   ]
  },
  {
   "cell_type": "code",
   "execution_count": 7,
   "metadata": {},
   "outputs": [
    {
     "data": {
      "text/plain": [
       "Index(['14', '15', '16', '24', '26', '28', '29', '35', '36', '38', '39', '41',\n",
       "       '42', '44', '45', '61', '63', '64', '65'],\n",
       "      dtype='object', name='subject')"
      ]
     },
     "execution_count": 7,
     "metadata": {},
     "output_type": "execute_result"
    }
   ],
   "source": [
    "subject.rename(subject_dict)\n",
    "subject.index"
   ]
  },
  {
   "cell_type": "code",
   "execution_count": 8,
   "metadata": {},
   "outputs": [],
   "source": [
    "jg = df[df['cj'] >= 60].groupby('籍贯').count()['cj'] / df.groupby('籍贯').count()['cj']\n",
    "jg = jg.dropna()"
   ]
  },
  {
   "cell_type": "code",
   "execution_count": 9,
   "metadata": {},
   "outputs": [
    {
     "data": {
      "text/plain": [
       "array([0.19230769, 0.25      , 0.16666667, 0.36      , 0.19354839,\n",
       "       0.18518519, 0.32142857, 0.35251799, 0.27835052, 0.28947368,\n",
       "       0.06896552, 0.10810811, 0.34108527, 0.34285714, 0.37864078,\n",
       "       0.32638889, 0.37313433, 0.13333333, 0.35897436, 0.32894737,\n",
       "       0.22788698, 0.1627907 , 0.21428571, 0.18518519, 0.33333333,\n",
       "       0.26666667, 0.2195122 ])"
      ]
     },
     "execution_count": 9,
     "metadata": {},
     "output_type": "execute_result"
    }
   ],
   "source": [
    "jg.values"
   ]
  },
  {
   "cell_type": "code",
   "execution_count": 10,
   "metadata": {},
   "outputs": [
    {
     "data": {
      "text/plain": [
       "0.24735557363710334"
      ]
     },
     "execution_count": 10,
     "metadata": {},
     "output_type": "execute_result"
    }
   ],
   "source": [
    "res = df[df['cj']>=60]['sfzh'].count() / df['sfzh'].count()\n",
    "res"
   ]
  },
  {
   "cell_type": "code",
   "execution_count": 11,
   "metadata": {},
   "outputs": [
    {
     "data": {
      "text/plain": [
       "0.25"
      ]
     },
     "execution_count": 11,
     "metadata": {},
     "output_type": "execute_result"
    }
   ],
   "source": [
    "round(res, 2)"
   ]
  },
  {
   "cell_type": "code",
   "execution_count": 12,
   "metadata": {},
   "outputs": [
    {
     "data": {
      "text/plain": [
       "(4916, 54)"
      ]
     },
     "execution_count": 12,
     "metadata": {},
     "output_type": "execute_result"
    }
   ],
   "source": [
    "df.shape"
   ]
  },
  {
   "cell_type": "code",
   "execution_count": 13,
   "metadata": {},
   "outputs": [
    {
     "data": {
      "text/html": [
       "<div>\n",
       "<style scoped>\n",
       "    .dataframe tbody tr th:only-of-type {\n",
       "        vertical-align: middle;\n",
       "    }\n",
       "\n",
       "    .dataframe tbody tr th {\n",
       "        vertical-align: top;\n",
       "    }\n",
       "\n",
       "    .dataframe thead th {\n",
       "        text-align: right;\n",
       "    }\n",
       "</style>\n",
       "<table border=\"1\" class=\"dataframe\">\n",
       "  <thead>\n",
       "    <tr style=\"text-align: right;\">\n",
       "      <th></th>\n",
       "      <th>bikes</th>\n",
       "      <th>glasses</th>\n",
       "      <th>pants</th>\n",
       "      <th>shirts</th>\n",
       "      <th>shoes</th>\n",
       "      <th>suits</th>\n",
       "      <th>watches</th>\n",
       "    </tr>\n",
       "  </thead>\n",
       "  <tbody>\n",
       "    <tr>\n",
       "      <th>store 1</th>\n",
       "      <td>20</td>\n",
       "      <td>NaN</td>\n",
       "      <td>30</td>\n",
       "      <td>15.0</td>\n",
       "      <td>8</td>\n",
       "      <td>45.0</td>\n",
       "      <td>35</td>\n",
       "    </tr>\n",
       "    <tr>\n",
       "      <th>store 2</th>\n",
       "      <td>15</td>\n",
       "      <td>50.0</td>\n",
       "      <td>5</td>\n",
       "      <td>2.0</td>\n",
       "      <td>5</td>\n",
       "      <td>7.0</td>\n",
       "      <td>10</td>\n",
       "    </tr>\n",
       "    <tr>\n",
       "      <th>store 3</th>\n",
       "      <td>20</td>\n",
       "      <td>4.0</td>\n",
       "      <td>30</td>\n",
       "      <td>NaN</td>\n",
       "      <td>10</td>\n",
       "      <td>NaN</td>\n",
       "      <td>35</td>\n",
       "    </tr>\n",
       "  </tbody>\n",
       "</table>\n",
       "</div>"
      ],
      "text/plain": [
       "         bikes  glasses  pants  shirts  shoes  suits  watches\n",
       "store 1     20      NaN     30    15.0      8   45.0       35\n",
       "store 2     15     50.0      5     2.0      5    7.0       10\n",
       "store 3     20      4.0     30     NaN     10    NaN       35"
      ]
     },
     "execution_count": 13,
     "metadata": {},
     "output_type": "execute_result"
    }
   ],
   "source": [
    "# We create a list of Python dictionaries\n",
    "# 创建一个字典列表\n",
    "items2 = [{'bikes': 20, 'pants': 30, 'watches': 35, 'shirts': 15, 'shoes':8, 'suits':45},\n",
    "{'watches': 10, 'glasses': 50, 'bikes': 15, 'pants':5, 'shirts': 2, 'shoes':5, 'suits':7},\n",
    "{'bikes': 20, 'pants': 30, 'watches': 35, 'glasses': 4, 'shoes':10}]\n",
    "\n",
    "# 创建一个DataFrame并设置行索引\n",
    "store_items = pd.DataFrame(items2, index = ['store 1', 'store 2', 'store 3'])\n",
    "\n",
    "# 显示\n",
    "store_items"
   ]
  },
  {
   "cell_type": "code",
   "execution_count": 14,
   "metadata": {},
   "outputs": [
    {
     "data": {
      "text/plain": [
       "bikes      3\n",
       "glasses    2\n",
       "pants      3\n",
       "shirts     2\n",
       "shoes      3\n",
       "suits      2\n",
       "watches    3\n",
       "dtype: int64"
      ]
     },
     "execution_count": 14,
     "metadata": {},
     "output_type": "execute_result"
    }
   ],
   "source": [
    "store_items.count()"
   ]
  },
  {
   "cell_type": "code",
   "execution_count": 17,
   "metadata": {},
   "outputs": [
    {
     "data": {
      "text/plain": [
       "3700"
      ]
     },
     "execution_count": 17,
     "metadata": {},
     "output_type": "execute_result"
    }
   ],
   "source": [
    "df[df['cj']<60]['sfzh'].count()"
   ]
  },
  {
   "cell_type": "code",
   "execution_count": 20,
   "metadata": {},
   "outputs": [],
   "source": [
    "s = pd.Series()"
   ]
  },
  {
   "cell_type": "code",
   "execution_count": 23,
   "metadata": {},
   "outputs": [
    {
     "data": {
      "text/html": [
       "<div>\n",
       "<style scoped>\n",
       "    .dataframe tbody tr th:only-of-type {\n",
       "        vertical-align: middle;\n",
       "    }\n",
       "\n",
       "    .dataframe tbody tr th {\n",
       "        vertical-align: top;\n",
       "    }\n",
       "\n",
       "    .dataframe thead th {\n",
       "        text-align: right;\n",
       "    }\n",
       "</style>\n",
       "<table border=\"1\" class=\"dataframe\">\n",
       "  <thead>\n",
       "    <tr style=\"text-align: right;\">\n",
       "      <th></th>\n",
       "      <th>学号</th>\n",
       "      <th>姓名</th>\n",
       "      <th>性别</th>\n",
       "      <th>学院</th>\n",
       "      <th>专业名称_x</th>\n",
       "      <th>行政班</th>\n",
       "      <th>年级</th>\n",
       "      <th>出生日期</th>\n",
       "      <th>政治面貌</th>\n",
       "      <th>民族</th>\n",
       "      <th>...</th>\n",
       "      <th>xm_y</th>\n",
       "      <th>xb_y</th>\n",
       "      <th>csrq_y</th>\n",
       "      <th>zjh</th>\n",
       "      <th>cj</th>\n",
       "      <th>dd</th>\n",
       "      <th>zsbh</th>\n",
       "      <th>zszy</th>\n",
       "      <th>bz</th>\n",
       "      <th>subject</th>\n",
       "    </tr>\n",
       "  </thead>\n",
       "  <tbody>\n",
       "    <tr>\n",
       "      <th>0</th>\n",
       "      <td>1401050101</td>\n",
       "      <td>胡海涛</td>\n",
       "      <td>男</td>\n",
       "      <td>材料科学与工程学院</td>\n",
       "      <td>材料成型及控制工程</td>\n",
       "      <td>材料成型及控制工程14级1班</td>\n",
       "      <td>2014</td>\n",
       "      <td>19960602</td>\n",
       "      <td>共青团员</td>\n",
       "      <td>汉族</td>\n",
       "      <td>...</td>\n",
       "      <td>胡海涛</td>\n",
       "      <td>1</td>\n",
       "      <td>19960602</td>\n",
       "      <td>340823199606021218</td>\n",
       "      <td>62</td>\n",
       "      <td>1</td>\n",
       "      <td>2.451620e+13</td>\n",
       "      <td>0</td>\n",
       "      <td>NaN</td>\n",
       "      <td>24</td>\n",
       "    </tr>\n",
       "    <tr>\n",
       "      <th>1</th>\n",
       "      <td>1401050102</td>\n",
       "      <td>陶征普</td>\n",
       "      <td>男</td>\n",
       "      <td>材料科学与工程学院</td>\n",
       "      <td>材料成型及控制工程</td>\n",
       "      <td>材料成型及控制工程14级1班</td>\n",
       "      <td>2014</td>\n",
       "      <td>19931011</td>\n",
       "      <td>共青团员</td>\n",
       "      <td>汉族</td>\n",
       "      <td>...</td>\n",
       "      <td>陶征普</td>\n",
       "      <td>1</td>\n",
       "      <td>19931011</td>\n",
       "      <td>340221199310114356</td>\n",
       "      <td>0</td>\n",
       "      <td>-1</td>\n",
       "      <td>NaN</td>\n",
       "      <td>0</td>\n",
       "      <td>NaN</td>\n",
       "      <td>24</td>\n",
       "    </tr>\n",
       "    <tr>\n",
       "      <th>2</th>\n",
       "      <td>1401050102</td>\n",
       "      <td>陶征普</td>\n",
       "      <td>男</td>\n",
       "      <td>材料科学与工程学院</td>\n",
       "      <td>材料成型及控制工程</td>\n",
       "      <td>材料成型及控制工程14级1班</td>\n",
       "      <td>2014</td>\n",
       "      <td>19931011</td>\n",
       "      <td>共青团员</td>\n",
       "      <td>汉族</td>\n",
       "      <td>...</td>\n",
       "      <td>陶征普</td>\n",
       "      <td>1</td>\n",
       "      <td>19931011</td>\n",
       "      <td>340221199310114356</td>\n",
       "      <td>0</td>\n",
       "      <td>-1</td>\n",
       "      <td>NaN</td>\n",
       "      <td>0</td>\n",
       "      <td>NaN</td>\n",
       "      <td>35</td>\n",
       "    </tr>\n",
       "    <tr>\n",
       "      <th>3</th>\n",
       "      <td>1401050144</td>\n",
       "      <td>周杰</td>\n",
       "      <td>男</td>\n",
       "      <td>材料科学与工程学院</td>\n",
       "      <td>材料成型及控制工程</td>\n",
       "      <td>材料成型及控制工程14级1班</td>\n",
       "      <td>2014</td>\n",
       "      <td>19950311</td>\n",
       "      <td>共青团员</td>\n",
       "      <td>汉族</td>\n",
       "      <td>...</td>\n",
       "      <td>周杰</td>\n",
       "      <td>1</td>\n",
       "      <td>19950311</td>\n",
       "      <td>220102199503115011</td>\n",
       "      <td>75</td>\n",
       "      <td>1</td>\n",
       "      <td>6.551620e+13</td>\n",
       "      <td>1</td>\n",
       "      <td>NaN</td>\n",
       "      <td>65</td>\n",
       "    </tr>\n",
       "    <tr>\n",
       "      <th>4</th>\n",
       "      <td>1401050151</td>\n",
       "      <td>秦伦</td>\n",
       "      <td>男</td>\n",
       "      <td>材料科学与工程学院</td>\n",
       "      <td>材料成型及控制工程</td>\n",
       "      <td>材料成型及控制工程14级1班</td>\n",
       "      <td>2014</td>\n",
       "      <td>19940518</td>\n",
       "      <td>共青团员</td>\n",
       "      <td>汉族</td>\n",
       "      <td>...</td>\n",
       "      <td>秦伦</td>\n",
       "      <td>1</td>\n",
       "      <td>19940518</td>\n",
       "      <td>640103199405180615</td>\n",
       "      <td>0</td>\n",
       "      <td>-1</td>\n",
       "      <td>NaN</td>\n",
       "      <td>0</td>\n",
       "      <td>NaN</td>\n",
       "      <td>24</td>\n",
       "    </tr>\n",
       "  </tbody>\n",
       "</table>\n",
       "<p>5 rows × 54 columns</p>\n",
       "</div>"
      ],
      "text/plain": [
       "           学号   姓名 性别         学院     专业名称_x             行政班    年级      出生日期  \\\n",
       "0  1401050101  胡海涛  男  材料科学与工程学院  材料成型及控制工程  材料成型及控制工程14级1班  2014  19960602   \n",
       "1  1401050102  陶征普  男  材料科学与工程学院  材料成型及控制工程  材料成型及控制工程14级1班  2014  19931011   \n",
       "2  1401050102  陶征普  男  材料科学与工程学院  材料成型及控制工程  材料成型及控制工程14级1班  2014  19931011   \n",
       "3  1401050144   周杰  男  材料科学与工程学院  材料成型及控制工程  材料成型及控制工程14级1班  2014  19950311   \n",
       "4  1401050151   秦伦  男  材料科学与工程学院  材料成型及控制工程  材料成型及控制工程14级1班  2014  19940518   \n",
       "\n",
       "   政治面貌  民族  ... xm_y xb_y    csrq_y                 zjh  cj dd          zsbh  \\\n",
       "0  共青团员  汉族  ...  胡海涛    1  19960602  340823199606021218  62  1  2.451620e+13   \n",
       "1  共青团员  汉族  ...  陶征普    1  19931011  340221199310114356   0 -1           NaN   \n",
       "2  共青团员  汉族  ...  陶征普    1  19931011  340221199310114356   0 -1           NaN   \n",
       "3  共青团员  汉族  ...   周杰    1  19950311  220102199503115011  75  1  6.551620e+13   \n",
       "4  共青团员  汉族  ...   秦伦    1  19940518  640103199405180615   0 -1           NaN   \n",
       "\n",
       "  zszy   bz subject  \n",
       "0    0  NaN      24  \n",
       "1    0  NaN      24  \n",
       "2    0  NaN      35  \n",
       "3    1  NaN      65  \n",
       "4    0  NaN      24  \n",
       "\n",
       "[5 rows x 54 columns]"
      ]
     },
     "execution_count": 23,
     "metadata": {},
     "output_type": "execute_result"
    }
   ],
   "source": [
    "df.head()"
   ]
  },
  {
   "cell_type": "code",
   "execution_count": null,
   "metadata": {},
   "outputs": [],
   "source": []
  }
 ],
 "metadata": {
  "kernelspec": {
   "display_name": "Python 3",
   "language": "python",
   "name": "python3"
  },
  "language_info": {
   "codemirror_mode": {
    "name": "ipython",
    "version": 3
   },
   "file_extension": ".py",
   "mimetype": "text/x-python",
   "name": "python",
   "nbconvert_exporter": "python",
   "pygments_lexer": "ipython3",
   "version": "3.7.3"
  }
 },
 "nbformat": 4,
 "nbformat_minor": 1
}
